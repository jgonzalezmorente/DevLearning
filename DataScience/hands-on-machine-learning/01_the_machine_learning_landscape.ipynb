{
 "cells": [
  {
   "cell_type": "markdown",
   "id": "f5b5c91f-d4a5-4a2c-aa72-c8589cb7aa8c",
   "metadata": {},
   "source": [
    "# El paisaje del Machine Learning"
   ]
  },
  {
   "cell_type": "markdown",
   "id": "5d373209-7314-42fe-b16b-530daf30d9af",
   "metadata": {},
   "source": [
    "**Ejemplo 1.1.** Entrenar y ejecutar un modelo lineal utilizando Scikit-Learn"
   ]
  },
  {
   "cell_type": "code",
   "execution_count": 2,
   "id": "515102b7-f0a0-449e-9eb4-016b54e699a6",
   "metadata": {},
   "outputs": [],
   "source": [
    "import os\n",
    "import matplotlib.pyplot as plt\n",
    "import numpy as np\n",
    "import pandas as pd\n",
    "import sklearn.linear_model"
   ]
  },
  {
   "cell_type": "code",
   "execution_count": 15,
   "id": "eed7e951-7c04-4dbb-bde5-dffd2b546b59",
   "metadata": {},
   "outputs": [],
   "source": [
    "# Cargar los datos\n",
    "datapath = '../handson-ml2-master/datasets/lifesat/'\n",
    "\n",
    "# Cargar los datos de bienestar de la OCDE\n",
    "oecd_bli = pd.read_csv(datapath + 'oecd_bli_2015.csv', thousands=',')\n",
    "\n",
    "# Cargar los datos del PIB per cápita\n",
    "gdp_per_capita = pd.read_csv(\n",
    "    datapath + 'gdp_per_capita.csv', \n",
    "    thousands=',',     # Interpreta las comas como separadores de miles en los números.\n",
    "    delimiter='\\t',    # Usa tabuladores como delimitador de columnas, típico en archivos TSV.\n",
    "    encoding='latin1', # Codificación Latin1 para manejar caracteres especiales como acentos y eñes.\n",
    "    na_values='n/a'    # Considera las celdas con 'n/a' como valores nulos (NaN).\n",
    ")"
   ]
  },
  {
   "cell_type": "code",
   "execution_count": null,
   "id": "cd2a115d-887e-4cb5-9b99-a635af26a901",
   "metadata": {},
   "outputs": [],
   "source": []
  }
 ],
 "metadata": {
  "kernelspec": {
   "display_name": "Python 3 (ipykernel)",
   "language": "python",
   "name": "python3"
  },
  "language_info": {
   "codemirror_mode": {
    "name": "ipython",
    "version": 3
   },
   "file_extension": ".py",
   "mimetype": "text/x-python",
   "name": "python",
   "nbconvert_exporter": "python",
   "pygments_lexer": "ipython3",
   "version": "3.10.14"
  }
 },
 "nbformat": 4,
 "nbformat_minor": 5
}
